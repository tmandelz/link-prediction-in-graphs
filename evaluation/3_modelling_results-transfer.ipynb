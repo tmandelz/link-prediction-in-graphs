{
 "cells": [
  {
   "cell_type": "markdown",
   "metadata": {},
   "source": [
    "# Modelling Results - Transfer\n",
    "\n",
    "In this notebook, the predictions from the finetuned model are utilized. For detailed theoretical information, please refer to the report.\n",
    "\n",
    "After training a Graph Neural Network (GNN), additional features were evaluated using a Random Forest (RF) model. Key features included GNN prediction scores, cosine similarity, and various node metrics like in-degree, out-degree, and cluster coefficients. Permutation Importance was applied to identify the most influential features. \n",
    "\n",
    "Permutation importance is a model-agnostic technique to evaluate feature importance by assessing the change in a model's performance after shuffling the values of a specific feature. A significant drop in performance suggests the feature is crucial for accurate predictions. This process is iterated to obtain a stable importance score.\n",
    "\n",
    "To ensure robustness, a 5-fold cross-validation was performed on the validation set, followed by testing on the test set to verify generalization. This approach ensures that the model's performance and the selected features are reliable and effective.\n"
   ]
  },
  {
   "cell_type": "code",
   "execution_count": null,
   "metadata": {},
   "outputs": [],
   "source": [
    "import os\n",
    "current_dir = os.getcwd()\n",
    "if os.path.basename(current_dir) != 'link-prediction-in-graphs':\n",
    "    parent_dir = os.path.dirname(current_dir)\n",
    "    os.chdir(parent_dir)\n",
    "print(f\"current working directory: {os.getcwd()}\")\n",
    "\n",
    "import torch\n",
    "import numpy as np\n",
    "import networkx as nx\n",
    "import pandas as pd\n",
    "import seaborn as sns\n",
    "from sklearn.metrics.pairwise import cosine_similarity\n",
    "from ogb.nodeproppred import NodePropPredDataset\n",
    "import dask.dataframe as dd\n",
    "from dask.multiprocessing import get\n",
    "import matplotlib.pyplot as plt\n",
    "from sklearn.model_selection import KFold\n",
    "from sklearn.ensemble import RandomForestClassifier,HistGradientBoostingClassifier\n",
    "from sklearn.linear_model import LogisticRegression\n",
    "from ogb.linkproppred import Evaluator\n",
    "from joblib import dump,load\n",
    "\n",
    "# set default plt figsize to (12,6)\n",
    "plt.rcParams[\"figure.figsize\"] = (12,6)\n",
    "pd.set_option('display.colheader_justify', 'center')\n",
    "# Set default font sizes\n",
    "plt.rcParams['axes.titlesize'] = 20\n",
    "plt.rcParams['xtick.labelsize'] = 16\n",
    "plt.rcParams['ytick.labelsize'] = 16\n",
    "plt.rcParams['axes.labelsize'] = 18 \n",
    "plt.rcParams['legend.fontsize'] = 16\n",
    "plt.rcParams['legend.title_fontsize'] = 18\n",
    "dataset = \"ogbn-arxiv\"\n",
    "\n",
    "data_path = \"./dataset/sample_data_for_evaluation_build/transfer/\"\n",
    "data = NodePropPredDataset(name=dataset)\n",
    "from modelling.dataset_split.dataset_splitter import Dataset_Splitter"
   ]
  },
  {
   "cell_type": "markdown",
   "metadata": {},
   "source": [
    "## Load Data"
   ]
  },
  {
   "cell_type": "code",
   "execution_count": 42,
   "metadata": {},
   "outputs": [
    {
     "name": "stdout",
     "output_type": "stream",
     "text": [
      "Creating Splits for dataset ogbn-arxiv\n",
      "Returning Splits for dataset ogbn-arxiv\n"
     ]
    }
   ],
   "source": [
    "ds_split = Dataset_Splitter()\n",
    "dataset_ = ds_split.load_dataset(dataset)\n",
    "split_edge, edge_index = ds_split.get_edges_split(dataset_)"
   ]
  },
  {
   "cell_type": "code",
   "execution_count": 43,
   "metadata": {},
   "outputs": [],
   "source": [
    "source = np.load(f\"{data_path}source.npy\")\n",
    "source_multiplied = np.array(torch.tensor(source).view(-1, 1).repeat(1, 1000).view(-1))\n",
    "target_neg = np.load(f\"{data_path}target_neg.npy\")\n",
    "target_pos = np.load(f\"{data_path}target.npy\")\n",
    "neg_preds = np.load(f\"{data_path}neg_preds.npy\")\n",
    "pos_preds = np.load(f\"{data_path}pos_preds.npy\")"
   ]
  },
  {
   "cell_type": "markdown",
   "metadata": {},
   "source": [
    "## load precalculated_data\n",
    "\n",
    "The data used in this chapter has already been calculated in the notebook `./2_modelling_results.ipynb`, and here it is only loaded into the respective dataframes."
   ]
  },
  {
   "cell_type": "code",
   "execution_count": 46,
   "metadata": {},
   "outputs": [],
   "source": [
    "pred_pos_df_featured = pd.read_csv(\"./dataset/modelling_results_calc_saved/pred_pos_df_featured.csv\", index_col=0)\n",
    "pred_neg_df_featured = pd.read_csv(\"./dataset/modelling_results_calc_saved/pred_neg_df_featured.csv\", index_col=0)"
   ]
  },
  {
   "cell_type": "code",
   "execution_count": 47,
   "metadata": {},
   "outputs": [],
   "source": [
    "pos_preds = np.load(f\"{data_path}valid_pos_preds.npy\")\n",
    "neg_preds = np.load(f\"{data_path}valid_neg_preds.npy\")\n",
    "pred_pos_df_featured[\"prediction_model\"] = pos_preds\n",
    "pred_neg_df_featured[\"prediction_model\"] = neg_preds.reshape(-1)\n"
   ]
  },
  {
   "cell_type": "code",
   "execution_count": 48,
   "metadata": {},
   "outputs": [],
   "source": [
    "comined_pred_df_featured = pd.concat([pred_neg_df_featured,pred_pos_df_featured])"
   ]
  },
  {
   "cell_type": "markdown",
   "metadata": {},
   "source": [
    "## GCN Transfer\n",
    "### Overall Importances"
   ]
  },
  {
   "cell_type": "code",
   "execution_count": 17,
   "metadata": {},
   "outputs": [
    {
     "name": "stdout",
     "output_type": "stream",
     "text": [
      "tensor(0.9324)\n",
      "tensor(0.9394)\n",
      "tensor(0.9432)\n",
      "tensor(0.9391)\n",
      "tensor(0.9381)\n"
     ]
    }
   ],
   "source": [
    "kf = KFold(n_splits=5, shuffle=True, random_state=42)\n",
    "model_to_select = \"Random Forest\"\n",
    "features_to_drop = [\"source\",\"target\"]\n",
    "mrr_list = []\n",
    "n=0\n",
    "for train_index, test_index in kf.split(source):\n",
    "    n+=1\n",
    "    X_train = comined_pred_df_featured[comined_pred_df_featured[\"source\"].isin(source[train_index])].copy()\n",
    "    y_train = X_train.pop(\"output\").values\n",
    "    X_test = comined_pred_df_featured[comined_pred_df_featured[\"source\"].isin(source[test_index])].copy()\n",
    "    y_test = X_test.pop(\"output\").values\n",
    "    if model_to_select == \"Random Forest\":\n",
    "        model = RandomForestClassifier(n_estimators=120, random_state=42,n_jobs = -1)\n",
    "    elif model_to_select == \"Logistic Regression\":\n",
    "        model = LogisticRegression()\n",
    "    model.fit(X_train.copy().drop(columns=features_to_drop), y_train)\n",
    "\n",
    "    X_test_pos = pred_pos_df_featured[pred_pos_df_featured[\"source\"].isin(source[test_index])].copy().drop(columns=\"output\")\n",
    "    y_pred_pos = model.predict_proba(X_test_pos.copy().drop(columns=features_to_drop))[:,1]\n",
    "\n",
    "    X_test_neg = pred_neg_df_featured[pred_neg_df_featured[\"source\"].isin(source[test_index])].copy().drop(columns=\"output\")\n",
    "    y_pred_neg = model.predict_proba(X_test_neg.copy().drop(columns=features_to_drop))[:,1]\n",
    "\n",
    "    evaluator = Evaluator(name='ogbl-citation2')\n",
    "    eval_dict = evaluator.eval({\n",
    "                'y_pred_pos': torch.tensor(y_pred_pos),\n",
    "                'y_pred_neg': torch.tensor(y_pred_neg).view(-1,1000),\n",
    "            })\n",
    "    print(eval_dict[\"mrr_list\"].mean())\n",
    "    mrr_list.append(eval_dict[\"mrr_list\"].mean())\n",
    "    dump(model, f'./models_saved/transfer_random_forest_model_{n}.joblib')"
   ]
  },
  {
   "cell_type": "code",
   "execution_count": null,
   "metadata": {},
   "outputs": [],
   "source": [
    "perm_importance = []\n",
    "n_times = 2\n",
    "for col in comined_pred_df_featured.drop(columns =\"output\").columns.values:\n",
    "    if col not in features_to_drop:\n",
    "        kf = KFold(n_splits=5, shuffle=True, random_state=42)\n",
    "        saved_per_model = []\n",
    "        model_n = 0\n",
    "        for train_index, test_index in kf.split(source):\n",
    "            model_n +=1\n",
    "            model = load(f'./models_saved/transfer_random_forest_model_{model_n}.joblib')\n",
    "            X_train = comined_pred_df_featured[comined_pred_df_featured[\"source\"].isin(source[train_index])].copy()\n",
    "            y_train = X_train.pop(\"output\").values\n",
    "            X_test = comined_pred_df_featured[comined_pred_df_featured[\"source\"].isin(source[test_index])].copy()\n",
    "            y_test = X_test.pop(\"output\").values\n",
    "            \n",
    "            X_test_pos = pred_pos_df_featured[pred_pos_df_featured[\"source\"].isin(source[test_index])].copy().drop(columns=\"output\")\n",
    "            X_test_neg = pred_neg_df_featured[pred_neg_df_featured[\"source\"].isin(source[test_index])].copy().drop(columns=\"output\")\n",
    "            \n",
    "            saved_per_feature = []\n",
    "            for x in range(n_times):\n",
    "                X_test_neg_permuted = X_test_neg.copy()\n",
    "                X_test_pos_permuted = X_test_pos.copy()\n",
    "\n",
    "                permuted_columns = np.random.permutation(np.hstack((X_test_pos_permuted[col].values,X_test_neg_permuted[col].values)))\n",
    "                X_test_neg_permuted[col] = permuted_columns[:X_test_neg_permuted.shape[0]]\n",
    "                X_test_pos_permuted[col] = permuted_columns[X_test_neg_permuted.shape[0]:]\n",
    "\n",
    "                y_pred_pos = model.predict_proba(X_test_pos_permuted.copy().drop(columns=features_to_drop))[:,1]\n",
    "                y_pred_neg = model.predict_proba(X_test_neg_permuted.copy().drop(columns=features_to_drop))[:,1]\n",
    "                evaluator = Evaluator(name='ogbl-citation2')\n",
    "                eval_dict = evaluator.eval({\n",
    "                            'y_pred_pos': torch.tensor(y_pred_pos),\n",
    "                            'y_pred_neg': torch.tensor(y_pred_neg).view(-1,1000),\n",
    "                        })\n",
    "                mrr_mean = eval_dict[\"mrr_list\"].mean()\n",
    "                importance = results[model_n-1] - mrr_mean\n",
    "                saved_per_feature.append(importance)\n",
    "            saved_per_model.append((np.mean(saved_per_feature)))\n",
    "        perm_importance.append((col, np.mean(saved_per_model),np.std(saved_per_model)))\n",
    "perm_importance.sort(key=lambda x: x[1], reverse=True)"
   ]
  },
  {
   "cell_type": "code",
   "execution_count": null,
   "metadata": {},
   "outputs": [],
   "source": [
    "labels, values, errors = zip(*perm_importance)\n",
    "\n",
    "# Creating the bar plot with error bars\n",
    "plt.figure(figsize=(10, 8))\n",
    "plt.barh(labels, values, xerr=errors, color='skyblue')\n",
    "plt.xlabel('Permutation Importance MRR difference')\n",
    "plt.ylabel('Features')\n",
    "plt.title('Feature Importance with Standard Deviation')\n",
    "plt.gca().invert_yaxis()  # Invert y-axis to have the highest value at the top\n",
    "plt.savefig(\"gcn_transfer_permutation_importnace_all_features.pdf\", format='pdf',dpi=5000,bbox_inches='tight')\n",
    "plt.show()"
   ]
  },
  {
   "cell_type": "code",
   "execution_count": 17,
   "metadata": {},
   "outputs": [
    {
     "name": "stdout",
     "output_type": "stream",
     "text": [
      "tensor(0.9067)\n",
      "tensor(0.9152)\n",
      "tensor(0.9069)\n",
      "tensor(0.9083)\n",
      "tensor(0.9087)\n"
     ]
    }
   ],
   "source": [
    "kf = KFold(n_splits=5, shuffle=True, random_state=42)\n",
    "model_to_select = \"Random Forest\"\n",
    "features_to_drop = comined_pred_df_featured.columns[~comined_pred_df_featured.columns.isin([\"output\",\"prediction_model\",\"node_year_target\",\"common_neighbours_all\",\"in_degrees_target\"])]\n",
    "mrr_list = []\n",
    "n=0\n",
    "for train_index, test_index in kf.split(source):\n",
    "    n+=1\n",
    "   \n",
    "    X_train = comined_pred_df_featured[comined_pred_df_featured[\"source\"].isin(source[train_index])].copy()\n",
    "    y_train = X_train.pop(\"output\").values\n",
    "    X_test = comined_pred_df_featured[comined_pred_df_featured[\"source\"].isin(source[test_index])].copy()\n",
    "    y_test = X_test.pop(\"output\").values\n",
    "    if model_to_select == \"Random Forest\":\n",
    "        model = RandomForestClassifier(n_estimators=120, random_state=42,n_jobs = -1)\n",
    "    elif model_to_select == \"Logistic Regression\":\n",
    "        model = LogisticRegression()\n",
    "    model.fit(X_train.copy().drop(columns=features_to_drop), y_train)\n",
    "    \n",
    "    X_test_pos = pred_pos_df_featured[pred_pos_df_featured[\"source\"].isin(source[test_index])].copy().drop(columns=\"output\")\n",
    "    y_pred_pos = model.predict_proba(X_test_pos.copy().drop(columns=features_to_drop))[:,1]\n",
    "\n",
    "    X_test_neg = pred_neg_df_featured[pred_neg_df_featured[\"source\"].isin(source[test_index])].copy().drop(columns=\"output\")\n",
    "    y_pred_neg = model.predict_proba(X_test_neg.copy().drop(columns=features_to_drop))[:,1]\n",
    "\n",
    "    evaluator = Evaluator(name='ogbl-citation2')\n",
    "    eval_dict = evaluator.eval({\n",
    "                'y_pred_pos': torch.tensor(y_pred_pos),\n",
    "                'y_pred_neg': torch.tensor(y_pred_neg).view(-1,1000),\n",
    "            })\n",
    "    print(eval_dict[\"mrr_list\"].mean())\n",
    "    mrr_list.append(eval_dict[\"mrr_list\"].mean())\n",
    "    dump(model, f'./models_saved/transfer_random_forest_model_further_trained{n}.joblib')"
   ]
  },
  {
   "cell_type": "code",
   "execution_count": 49,
   "metadata": {},
   "outputs": [],
   "source": [
    "mrr_list = [0.9067,0.9152,0.9069,0.9083,0.9087]\n",
    "features_to_drop = comined_pred_df_featured.columns[~comined_pred_df_featured.columns.isin([\"output\",\"prediction_model\",\"node_year_target\",\"common_neighbours_all\",\"in_degrees_target\"])]"
   ]
  },
  {
   "cell_type": "code",
   "execution_count": 50,
   "metadata": {},
   "outputs": [],
   "source": [
    "perm_importance = []\n",
    "n_times = 2\n",
    "for col in comined_pred_df_featured.drop(columns =\"output\").columns.values:\n",
    "    if col not in features_to_drop:\n",
    "        kf = KFold(n_splits=5, shuffle=True, random_state=42)\n",
    "        saved_per_model = []\n",
    "        model_n = 0\n",
    "        for train_index, test_index in kf.split(source):\n",
    "            model_n +=1\n",
    "            model = load(f'./models_saved/transfer_random_forest_model_further_trained{model_n}.joblib')\n",
    "            X_train = comined_pred_df_featured[comined_pred_df_featured[\"source\"].isin(source[train_index])].copy()\n",
    "            y_train = X_train.pop(\"output\").values\n",
    "            X_test = comined_pred_df_featured[comined_pred_df_featured[\"source\"].isin(source[test_index])].copy()\n",
    "            y_test = X_test.pop(\"output\").values\n",
    "\n",
    "            X_test_pos = pred_pos_df_featured[pred_pos_df_featured[\"source\"].isin(source[test_index])].copy().drop(columns=\"output\")\n",
    "\n",
    "            X_test_neg = pred_neg_df_featured[pred_neg_df_featured[\"source\"].isin(source[test_index])].copy().drop(columns=\"output\")\n",
    "            saved_per_feature = []\n",
    "            for x in range(n_times):\n",
    "                X_test_neg_permuted = X_test_neg.copy()\n",
    "                X_test_pos_permuted = X_test_pos.copy()\n",
    "\n",
    "                permuted_columns = np.random.permutation(np.hstack((X_test_pos_permuted[col].values,X_test_neg_permuted[col].values)))\n",
    "                X_test_neg_permuted[col] = permuted_columns[:X_test_neg_permuted.shape[0]]\n",
    "                X_test_pos_permuted[col] = permuted_columns[X_test_neg_permuted.shape[0]:]\n",
    "\n",
    "                y_pred_pos = model.predict_proba(X_test_pos_permuted.copy().drop(columns=features_to_drop))[:,1]\n",
    "                y_pred_neg = model.predict_proba(X_test_neg_permuted.copy().drop(columns=features_to_drop))[:,1]\n",
    "                evaluator = Evaluator(name='ogbl-citation2')\n",
    "                eval_dict = evaluator.eval({\n",
    "                            'y_pred_pos': torch.tensor(y_pred_pos),\n",
    "                            'y_pred_neg': torch.tensor(y_pred_neg).view(-1,1000),\n",
    "                        })\n",
    "                mrr_mean = eval_dict[\"mrr_list\"].mean()\n",
    "                importance = mrr_list[model_n-1] - mrr_mean\n",
    "                saved_per_feature.append(importance)\n",
    "            saved_per_model.append((np.mean(saved_per_feature)))\n",
    "        perm_importance.append((col, np.mean(saved_per_model),np.std(saved_per_model)))\n",
    "perm_importance.sort(key=lambda x: x[1], reverse=True)"
   ]
  },
  {
   "cell_type": "code",
   "execution_count": 52,
   "metadata": {},
   "outputs": [
    {
     "data": {
      "image/png": "[encoded data removed]",
      "text/plain": [
       "<Figure size 720x576 with 1 Axes>"
      ]
     },
     "metadata": {
      "needs_background": "light"
     },
     "output_type": "display_data"
    }
   ],
   "source": [
    "labels, values, errors = zip(*perm_importance)\n",
    "\n",
    "# Creating the bar plot with error bars\n",
    "plt.figure(figsize=(10, 8))\n",
    "plt.barh(labels, values, xerr=errors, color='skyblue')\n",
    "plt.xlabel('Permutation Importance MRR difference')\n",
    "plt.ylabel('Features')\n",
    "plt.title('Feature Importance with Standard Deviation')\n",
    "plt.gca().invert_yaxis()  # Invert y-axis to have the highest value at the top\n",
    "plt.savefig(\"gcn_transfer_permutation_importnace_four_features.pdf\", format='pdf',dpi=5000,bbox_inches='tight')\n",
    "plt.show()"
   ]
  },
  {
   "cell_type": "markdown",
   "metadata": {},
   "source": [
    "### Test on testset\n",
    "\n",
    "Here the random forest model is trained on the validation set and tested on the testset."
   ]
  },
  {
   "cell_type": "code",
   "execution_count": 53,
   "metadata": {},
   "outputs": [],
   "source": [
    "data_path_test = \"./dataset/sample_data_for_evaluation_build/gcn_reference/test/\"\n",
    "pos_preds_test = np.load(f\"{data_path_test}pos_preds.npy\")\n",
    "neg_preds_test = np.load(f\"{data_path_test}neg_preds.npy\")\n",
    "pred_pos_df_featured_test= pd.read_csv(\"./dataset/modelling_results_calc_saved/pred_pos_df_featured_test.csv\", index_col=0)\n",
    "pred_neg_df_featured_test = pd.read_csv(\"./dataset/modelling_results_calc_saved/pred_neg_df_featured_test.csv\", index_col=0)\n",
    "pred_pos_df_featured_test[\"prediction_model\"] = pos_preds_test\n",
    "pred_neg_df_featured_test[\"prediction_model\"] = neg_preds_test.reshape(-1)\n",
    "comined_pred_df_featured_test = pd.concat([pred_neg_df_featured_test,pred_pos_df_featured_test])"
   ]
  },
  {
   "cell_type": "code",
   "execution_count": null,
   "metadata": {},
   "outputs": [],
   "source": [
    "model_to_select = \"Random Forest\"\n",
    "features_to_drop = comined_pred_df_featured.columns[~comined_pred_df_featured.columns.isin([\"output\",\"prediction_model\",\"node_year_target\",\"common_neighbours_all\",\"in_degrees_target\"])]\n",
    "   \n",
    "X_train = comined_pred_df_featured.copy()\n",
    "y_train = X_train.pop(\"output\").values\n",
    "X_test = comined_pred_df_featured_test.copy()\n",
    "y_test = X_test.pop(\"output\").values\n",
    "if model_to_select == \"Random Forest\":\n",
    "    model = RandomForestClassifier(n_estimators=120, random_state=42,n_jobs = -1)\n",
    "elif model_to_select == \"Logistic Regression\":\n",
    "    model = LogisticRegression()\n",
    "model.fit(X_train.copy().drop(columns=features_to_drop), y_train)\n",
    "\n",
    "X_test_pos = pred_pos_df_featured_test.copy().drop(columns=\"output\")\n",
    "y_pred_pos = model.predict_proba(X_test_pos.copy().drop(columns=features_to_drop))[:,1]\n",
    "\n",
    "X_test_neg = pred_neg_df_featured_test.copy().drop(columns=\"output\")\n",
    "y_pred_neg = model.predict_proba(X_test_neg.copy().drop(columns=features_to_drop))[:,1]\n",
    "\n",
    "evaluator = Evaluator(name='ogbl-citation2')\n",
    "eval_dict = evaluator.eval({\n",
    "            'y_pred_pos': torch.tensor(y_pred_pos),\n",
    "            'y_pred_neg': torch.tensor(y_pred_neg).view(-1,1000),\n",
    "        })\n",
    "\n",
    "dump(model, f'./models_saved/transfer_random_forest_model_further_trained_full_data.joblib')"
   ]
  },
  {
   "cell_type": "code",
   "execution_count": 54,
   "metadata": {},
   "outputs": [],
   "source": [
    "perm_importance = []\n",
    "result = 0.8856 #eval_dict[\"mrr_list\"].mean()\n",
    "n_times = 5\n",
    "model = load(f'./models_saved/transfer_random_forest_model_further_trained_full_data.joblib')\n",
    "for col in X_test_pos.columns:\n",
    "    if col not in features_to_drop:            \n",
    "\n",
    "        saved_per_feature = []\n",
    "        for x in range(n_times):\n",
    "            X_test_neg_permuted = X_test_neg.copy()\n",
    "            X_test_pos_permuted = X_test_pos.copy()\n",
    "\n",
    "            permuted_columns = np.random.permutation(np.hstack((X_test_pos_permuted[col].values,X_test_neg_permuted[col].values)))\n",
    "            X_test_neg_permuted[col] = permuted_columns[:X_test_neg_permuted.shape[0]]\n",
    "            X_test_pos_permuted[col] = permuted_columns[X_test_neg_permuted.shape[0]:]\n",
    "\n",
    "            y_pred_pos = model.predict_proba(X_test_pos_permuted.copy().drop(columns=features_to_drop))[:,1]\n",
    "            y_pred_neg = model.predict_proba(X_test_neg_permuted.copy().drop(columns=features_to_drop))[:,1]\n",
    "            evaluator = Evaluator(name='ogbl-citation2')\n",
    "            eval_dict = evaluator.eval({\n",
    "                        'y_pred_pos': torch.tensor(y_pred_pos),\n",
    "                        'y_pred_neg': torch.tensor(y_pred_neg).view(-1,1000),\n",
    "                    })\n",
    "            mrr_mean = eval_dict[\"mrr_list\"].mean()\n",
    "            importance = result - mrr_mean\n",
    "            saved_per_feature.append(importance)\n",
    "        perm_importance.append((col, np.mean(saved_per_feature),np.std(saved_per_feature)))\n",
    "perm_importance.sort(key=lambda x: x[1], reverse=True)"
   ]
  },
  {
   "cell_type": "code",
   "execution_count": 56,
   "metadata": {},
   "outputs": [
    {
     "data": {
      "image/png": "[encoded data removed]",
      "text/plain": [
       "<Figure size 720x576 with 1 Axes>"
      ]
     },
     "metadata": {
      "needs_background": "light"
     },
     "output_type": "display_data"
    }
   ],
   "source": [
    "labels, values, errors = zip(*perm_importance)\n",
    "\n",
    "# Creating the bar plot with error bars\n",
    "plt.figure(figsize=(10, 8))\n",
    "plt.barh(labels, values, xerr=errors, color='skyblue')\n",
    "plt.xlabel('Permutation Importance MRR difference')\n",
    "plt.ylabel('Features')\n",
    "plt.title('Feature Importance with Standard Deviation')\n",
    "plt.gca().invert_yaxis()  # Invert y-axis to have the highest value at the top\n",
    "plt.savefig(\"gcn_transfer_permutation_importnace_four_features_test.pdf\", format='pdf',dpi=5000,bbox_inches='tight')\n",
    "plt.show()"
   ]
  }
 ],
 "metadata": {
  "kernelspec": {
   "display_name": "Python 3 (ipykernel)",
   "language": "python",
   "name": "python3"
  },
  "language_info": {
   "codemirror_mode": {
    "name": "ipython",
    "version": 3
   },
   "file_extension": ".py",
   "mimetype": "text/x-python",
   "name": "python",
   "nbconvert_exporter": "python",
   "pygments_lexer": "ipython3",
   "version": "3.9.4"
  }
 },
 "nbformat": 4,
 "nbformat_minor": 4
}
